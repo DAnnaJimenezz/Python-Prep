{
 "cells": [
  {
   "attachments": {},
   "cell_type": "markdown",
   "metadata": {},
   "source": [
    "## Flujos de Control"
   ]
  },
  {
   "attachments": {},
   "cell_type": "markdown",
   "metadata": {},
   "source": [
    "1) Crear una variable que contenga un elemento del conjunto de números enteros y luego imprimir por pantalla si es mayor o menor a cero"
   ]
  },
  {
   "cell_type": "code",
   "execution_count": 10,
   "metadata": {},
   "outputs": [
    {
     "name": "stdout",
     "output_type": "stream",
     "text": [
      "Este número es mayor que 0\n"
     ]
    }
   ],
   "source": [
    "a = 56\n",
    "if (a < 0):\n",
    "    print('Este número es menor a 0')\n",
    "elif (a > 0):\n",
    "    print('Este número es mayor que 0')\n",
    "else:\n",
    "    print('El número es igual a 0')"
   ]
  },
  {
   "attachments": {},
   "cell_type": "markdown",
   "metadata": {},
   "source": [
    "2) Crear dos variables y un condicional que informe si son del mismo tipo de dato"
   ]
  },
  {
   "cell_type": "code",
   "execution_count": 18,
   "metadata": {},
   "outputs": [
    {
     "name": "stdout",
     "output_type": "stream",
     "text": [
      "Las variables son tipos de datos diferentes\n"
     ]
    }
   ],
   "source": [
    "x = 'Danna'\n",
    "y = 35\n",
    "if (type(x) == type(y)):\n",
    "    print ('Las variables son tipos de datos iguales')\n",
    "else:\n",
    "    print('Las variables son tipos de datos diferentes')"
   ]
  },
  {
   "attachments": {},
   "cell_type": "markdown",
   "metadata": {},
   "source": [
    "3) Para los valores enteros del 1 al 20, imprimir por pantalla si es par o impar"
   ]
  },
  {
   "cell_type": "code",
   "execution_count": 4,
   "metadata": {},
   "outputs": [
    {
     "name": "stdout",
     "output_type": "stream",
     "text": [
      "El número es, 1 impar\n",
      "El número es, 2 par\n",
      "El número es, 3 impar\n",
      "El número es, 4 par\n",
      "El número es, 5 impar\n",
      "El número es, 6 par\n",
      "El número es, 7 impar\n",
      "El número es, 8 par\n",
      "El número es, 9 impar\n",
      "El número es, 10 par\n",
      "El número es, 11 impar\n",
      "El número es, 12 par\n",
      "El número es, 13 impar\n",
      "El número es, 14 par\n",
      "El número es, 15 impar\n",
      "El número es, 16 par\n",
      "El número es, 17 impar\n",
      "El número es, 18 par\n",
      "El número es, 19 impar\n"
     ]
    }
   ],
   "source": [
    "for i in range (1, 20):\n",
    "    if i % 2 ==0:\n",
    "        print(f'El número es, {i} par')\n",
    "    else:\n",
    "        print(f'El número es, {i} impar')"
   ]
  },
  {
   "attachments": {},
   "cell_type": "markdown",
   "metadata": {},
   "source": [
    "4) En un ciclo for mostrar para los valores entre 0 y 5 el resultado de elevarlo a la potencia igual a 3"
   ]
  },
  {
   "cell_type": "code",
   "execution_count": null,
   "metadata": {},
   "outputs": [
    {
     "name": "stdout",
     "output_type": "stream",
     "text": [
      "Némero {0} Elevado a la 3 {0}\n",
      "Némero {1} Elevado a la 3 {1}\n",
      "Némero {2} Elevado a la 3 {8}\n",
      "Némero {3} Elevado a la 3 {27}\n",
      "Némero {4} Elevado a la 3 {64}\n"
     ]
    }
   ],
   "source": [
    "for i in range (0, 5):\n",
    "    print(f'Número', {i}, 'Elevado a la 3', {i**3})"
   ]
  },
  {
   "attachments": {},
   "cell_type": "markdown",
   "metadata": {},
   "source": [
    "5) Crear una variable que contenga un número entero y realizar un ciclo for la misma cantidad de ciclos"
   ]
  },
  {
   "cell_type": "code",
   "execution_count": 9,
   "metadata": {},
   "outputs": [
    {
     "name": "stdout",
     "output_type": "stream",
     "text": [
      "56\n"
     ]
    }
   ],
   "source": [
    "a = 56\n",
    "for i in range (0, a):\n",
    "    pass\n",
    "print(a) "
   ]
  },
  {
   "attachments": {},
   "cell_type": "markdown",
   "metadata": {},
   "source": [
    "6) Utilizar un ciclo while para realizar el factorial de un número guardado en una variable, sólo si la variable contiene un número entero mayor a 0"
   ]
  },
  {
   "cell_type": "code",
   "execution_count": null,
   "metadata": {},
   "outputs": [
    {
     "name": "stdout",
     "output_type": "stream",
     "text": [
      "El factorial de 45 es 45\n",
      "El factorial de 45 es 1980\n",
      "El factorial de 45 es 85140\n",
      "El factorial de 45 es 3575880\n",
      "El factorial de 45 es 146611080\n",
      "El factorial de 45 es 5864443200\n",
      "El factorial de 45 es 228713284800\n",
      "El factorial de 45 es 8691104822400\n",
      "El factorial de 45 es 321570878428800\n",
      "El factorial de 45 es 11576551623436800\n",
      "El factorial de 45 es 405179306820288000\n",
      "El factorial de 45 es 13776096431889792000\n",
      "El factorial de 45 es 454611182252363136000\n",
      "El factorial de 45 es 14547557832075620352000\n",
      "El factorial de 45 es 450974292794344230912000\n",
      "El factorial de 45 es 13529228783830326927360000\n",
      "El factorial de 45 es 392347634731079480893440000\n",
      "El factorial de 45 es 10985733772470225465016320000\n",
      "El factorial de 45 es 296614811856696087555440640000\n",
      "El factorial de 45 es 7711985108274098276441456640000\n",
      "El factorial de 45 es 192799627706852456911036416000000\n",
      "El factorial de 45 es 4627191064964458965864873984000000\n",
      "El factorial de 45 es 106425394494182556214892101632000000\n",
      "El factorial de 45 es 2341358678872016236727626235904000000\n",
      "El factorial de 45 es 49168532256312340971280150953984000000\n",
      "El factorial de 45 es 983370645126246819425603019079680000000\n",
      "El factorial de 45 es 18684042257398689569086457362513920000000\n",
      "El factorial de 45 es 336312760633176412243556232525250560000000\n",
      "El factorial de 45 es 5717316930763999008140455952929259520000000\n",
      "El factorial de 45 es 91477070892223984130247295246868152320000000\n",
      "El factorial de 45 es 1372156063383359761953709428703022284800000000\n",
      "El factorial de 45 es 19210184887367036667351932001842311987200000000\n",
      "El factorial de 45 es 249732403535771476675575116023950055833600000000\n",
      "El factorial de 45 es 2996788842429257720106901392287400670003200000000\n",
      "El factorial de 45 es 32964677266721834921175915315161407370035200000000\n",
      "El factorial de 45 es 329646772667218349211759153151614073700352000000000\n",
      "El factorial de 45 es 2966820954004965142905832378364526663303168000000000\n",
      "El factorial de 45 es 23734567632039721143246659026916213306425344000000000\n",
      "El factorial de 45 es 166141973424278048002726613188413493144977408000000000\n",
      "El factorial de 45 es 996851840545668288016359679130480958869864448000000000\n",
      "El factorial de 45 es 4984259202728341440081798395652404794349322240000000000\n",
      "El factorial de 45 es 19937036810913365760327193582609619177397288960000000000\n",
      "El factorial de 45 es 59811110432740097280981580747828857532191866880000000000\n",
      "El factorial de 45 es 119622220865480194561963161495657715064383733760000000000\n",
      "El factorial de 45 es 119622220865480194561963161495657715064383733760000000000\n"
     ]
    }
   ],
   "source": [
    "x = 45\n",
    "if x > 0:\n",
    "    factorial = 1\n",
    "    contador = x\n",
    "    while contador > 0:\n",
    "        factorial *= contador\n",
    "        contador -= 1\n",
    "        print(f\"El factorial de {x} es {factorial}\")\n",
    "else:\n",
    "    print(\"La variable debe ser un número entero mayor a 0.\")"
   ]
  },
  {
   "attachments": {},
   "cell_type": "markdown",
   "metadata": {},
   "source": [
    "7) Crear un ciclo for dentro de un ciclo while"
   ]
  },
  {
   "cell_type": "code",
   "execution_count": 15,
   "metadata": {},
   "outputs": [
    {
     "name": "stdout",
     "output_type": "stream",
     "text": [
      "Ciclo while: 1\n",
      "  Iteración del ciclo for: 1\n",
      "  Iteración del ciclo for: 2\n",
      "  Iteración del ciclo for: 3\n",
      "Ciclo while: 2\n",
      "  Iteración del ciclo for: 1\n",
      "  Iteración del ciclo for: 2\n",
      "  Iteración del ciclo for: 3\n",
      "Ciclo while: 3\n",
      "  Iteración del ciclo for: 1\n",
      "  Iteración del ciclo for: 2\n",
      "  Iteración del ciclo for: 3\n"
     ]
    }
   ],
   "source": [
    "contador = 0 \n",
    "while contador < 3:\n",
    "    print(f'Ciclo while: {contador + 1}')\n",
    "    for i in range(1, 4):\n",
    "        print(f'  Iteración del ciclo for: {i}')\n",
    "    contador += 1"
   ]
  },
  {
   "attachments": {},
   "cell_type": "markdown",
   "metadata": {},
   "source": [
    "8) Crear un ciclo while dentro de un ciclo for"
   ]
  },
  {
   "cell_type": "code",
   "execution_count": 22,
   "metadata": {},
   "outputs": [
    {
     "name": "stdout",
     "output_type": "stream",
     "text": [
      "Ciclo for: 1\n",
      "Ciclo while: 1\n",
      "Ciclo while: 2\n",
      "Ciclo for: 2\n",
      "Ciclo while: 1\n",
      "Ciclo while: 2\n",
      "Ciclo for: 3\n",
      "Ciclo while: 1\n",
      "Ciclo while: 2\n"
     ]
    }
   ],
   "source": [
    "for i in range(1, 4):\n",
    "    print(f'Ciclo for: {i}')\n",
    "    contador = 1\n",
    "    while contador <= 2:\n",
    "        print(f'Ciclo while: {contador}')\n",
    "        contador += 1\n"
   ]
  },
  {
   "attachments": {},
   "cell_type": "markdown",
   "metadata": {},
   "source": [
    "9) Imprimir los números primos existentes entre 0 y 30"
   ]
  },
  {
   "cell_type": "code",
   "execution_count": null,
   "metadata": {},
   "outputs": [
    {
     "name": "stdout",
     "output_type": "stream",
     "text": [
      "Este número es primo: 2\n",
      "Este número es primo: 3\n",
      "Este número es primo: 5\n",
      "Este número es primo: 7\n",
      "Este número es primo: 11\n",
      "Este número es primo: 13\n",
      "Este número es primo: 17\n",
      "Este número es primo: 19\n",
      "Este número es primo: 23\n",
      "Este número es primo: 29\n"
     ]
    }
   ],
   "source": [
    "tope_rango=30\n",
    "n = 2\n",
    "primo = True\n",
    "while (n < tope_rango):\n",
    "    for div in range(2, n):\n",
    "        if (n % div == 0):\n",
    "            primo = False\n",
    "    if (primo):\n",
    "        print(f'Este número es primo: {n}')\n",
    "    else:\n",
    "        primo = True\n",
    "    n += 1"
   ]
  },
  {
   "attachments": {},
   "cell_type": "markdown",
   "metadata": {},
   "source": [
    "10) ¿Se puede mejorar el proceso del punto 9? Utilizar las sentencias break y/ó continue para tal fin"
   ]
  },
  {
   "cell_type": "code",
   "execution_count": 19,
   "metadata": {},
   "outputs": [
    {
     "name": "stdout",
     "output_type": "stream",
     "text": [
      "Este número es primo: 2\n",
      "Este número es primo: 3\n",
      "Este número es primo: 5\n",
      "Este número es primo: 7\n",
      "Este número es primo: 11\n",
      "Este número es primo: 13\n",
      "Este número es primo: 17\n",
      "Este número es primo: 19\n",
      "Este número es primo: 23\n",
      "Este número es primo: 29\n"
     ]
    }
   ],
   "source": [
    "tope_rango = 30\n",
    "n = 2\n",
    "while (n < tope_rango):\n",
    "    primo = True\n",
    "    for div in range(2, n):\n",
    "        if n % div == 0:\n",
    "            primo = False\n",
    "            break\n",
    "    if primo:\n",
    "        print(f'Este número es primo: {n}')\n",
    "    n += 1"
   ]
  },
  {
   "attachments": {},
   "cell_type": "markdown",
   "metadata": {},
   "source": [
    "11) En los puntos 9 y 10, se diseño un código que encuentra números primos y además se lo optimizó. ¿Es posible saber en qué medida se optimizó?"
   ]
  },
  {
   "cell_type": "code",
   "execution_count": null,
   "metadata": {},
   "outputs": [],
   "source": []
  },
  {
   "attachments": {},
   "cell_type": "markdown",
   "metadata": {},
   "source": [
    "12) Aplicando continue, armar un ciclo while que solo imprima los valores divisibles por 12, dentro del rango de números de 100 a 300"
   ]
  },
  {
   "cell_type": "code",
   "execution_count": null,
   "metadata": {},
   "outputs": [
    {
     "name": "stdout",
     "output_type": "stream",
     "text": [
      "108\n",
      "120\n",
      "132\n",
      "144\n",
      "156\n",
      "168\n",
      "180\n",
      "192\n",
      "204\n",
      "216\n",
      "228\n",
      "240\n",
      "252\n",
      "264\n",
      "276\n",
      "288\n",
      "300\n"
     ]
    }
   ],
   "source": [
    "x = 100\n",
    "while (x <= 300):\n",
    "    if x % 12:\n",
    "        x += 1\n",
    "        continue\n",
    "    print (x)\n",
    "    x += 1 \n"
   ]
  },
  {
   "attachments": {},
   "cell_type": "markdown",
   "metadata": {},
   "source": [
    "13) Utilizar la función **input()** que permite hacer ingresos por teclado, para encontrar números primos y dar la opción al usario de buscar el siguiente"
   ]
  },
  {
   "cell_type": "code",
   "execution_count": null,
   "metadata": {},
   "outputs": [],
   "source": []
  },
  {
   "attachments": {},
   "cell_type": "markdown",
   "metadata": {},
   "source": [
    "14) Crear un ciclo while que encuentre dentro del rango de 100 a 300 el primer número divisible por 3 y además múltiplo de 6"
   ]
  },
  {
   "cell_type": "code",
   "execution_count": 25,
   "metadata": {},
   "outputs": [
    {
     "name": "stdout",
     "output_type": "stream",
     "text": [
      "El número en el rango de 100 a 300 es divisible por 3 y multiplo de 6: 102\n"
     ]
    }
   ],
   "source": [
    "z = 100\n",
    "while z <= 300:\n",
    "    if z % 6 == 0:\n",
    "        print (f'El número en el rango de 100 a 300 es divisible por 3 y multiplo de 6: {z}')\n",
    "        break\n",
    "    z += 1 \n",
    "    "
   ]
  }
 ],
 "metadata": {
  "kernelspec": {
   "display_name": "Python 3",
   "language": "python",
   "name": "python3"
  },
  "language_info": {
   "codemirror_mode": {
    "name": "ipython",
    "version": 3
   },
   "file_extension": ".py",
   "mimetype": "text/x-python",
   "name": "python",
   "nbconvert_exporter": "python",
   "pygments_lexer": "ipython3",
   "version": "3.13.0"
  }
 },
 "nbformat": 4,
 "nbformat_minor": 4
}
